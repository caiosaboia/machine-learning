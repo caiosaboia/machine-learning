{
  "cells": [
    {
      "cell_type": "markdown",
      "metadata": {},
      "source": [
        "---\n",
        "title: Regressão linear, polinomial e regularização\n",
        "jupyter: python3\n",
        "---\n",
        "\n",
        "# Questao 1\n",
        "\n",
        "## a) Apresente os parâmetros do modelo e o MSE (erro quadrático médio) obtidos pelo algoritmo OLS (mínimos quadrados ordinários). Plote a reta resultante sobre os dados.\n"
      ]
    },
    {
      "cell_type": "code",
      "metadata": {},
      "source": [
        "import numpy as np\n",
        "import matplotlib.pyplot as plt\n",
        "\n",
        "# Carregando o arquivo\n",
        "atificial_data = np.loadtxt(\"artificial1d.csv\", delimiter=\",\")\n",
        "x = atificial_data[:, 0]\n",
        "y = atificial_data[:, 1]\n",
        "\n",
        "\n",
        "print(f\"x:{x} \\n\")\n",
        "print(f\"y:{y} \\n\")"
      ],
      "execution_count": null,
      "outputs": []
    },
    {
      "cell_type": "code",
      "metadata": {},
      "source": [
        "plt.scatter(x, y, label=\"Dados\")\n",
        "plt.xlabel('x')\n",
        "plt.ylabel('y')\n",
        "plt.title('Dados artificiais 1D')\n",
        "plt.legend()\n",
        "plt.grid(True)\n",
        "plt.show()"
      ],
      "execution_count": null,
      "outputs": []
    },
    {
      "cell_type": "code",
      "metadata": {},
      "source": [
        "X = np.c_[np.ones(x.shape[0]), x]\n",
        "\n",
        "w = (np.linalg.inv(X.T @ X) @ X.T @ y)\n",
        "\n",
        "w_0, w_1 = w\n",
        "print(f\"Parâmetros encontrados: w0 = {w_0:.4f}, w1 = {w_1:.4f}\")"
      ],
      "execution_count": null,
      "outputs": []
    },
    {
      "cell_type": "code",
      "metadata": {},
      "source": [
        "def MSE(y_real, y_est):\n",
        "    return np.mean((y_real - y_est)**2)\n",
        "\n",
        "y_pred = X @ w\n",
        "\n",
        "print(MSE(y, y_pred))"
      ],
      "execution_count": null,
      "outputs": []
    },
    {
      "cell_type": "code",
      "metadata": {},
      "source": [
        "plt.scatter(x, y, label=\"Dados\")\n",
        "plt.plot(x, y_pred, color='red', label=\"Reta OLS\")\n",
        "plt.xlabel('x')\n",
        "plt.ylabel('y')\n",
        "plt.title('Regressão Linear (OLS)')\n",
        "plt.legend()\n",
        "plt.grid(True)\n",
        "plt.show()"
      ],
      "execution_count": null,
      "outputs": []
    },
    {
      "cell_type": "markdown",
      "metadata": {},
      "source": [
        "## b) Apresente os parâmetros do modelo, o MSE e a curva de aprendizagem obtidos pelo algoritmo GD (gradiente descendente). Plote a reta resultante sobre os dados.\n"
      ]
    },
    {
      "cell_type": "code",
      "metadata": {},
      "source": [
        "def gd(X, y, alpha=0.1, epochs=100):\n",
        "    m, n = X.shape\n",
        "    w = np.zeros(n)\n",
        "    mse_history = []\n",
        "\n",
        "    for _ in range(epochs):\n",
        "        y_pred = X @ w\n",
        "        erro = y_pred - y\n",
        "        gradiente = (2/m) * X.T @ erro\n",
        "        w -= alpha * gradiente\n",
        "        mse_history.append(np.mean(erro**2))\n",
        "        \n",
        "    return w, mse_history\n",
        "\n",
        "# Executa o gradiente descendente\n",
        "w_gd, mse_gd = gd(X, y, alpha=0.1, epochs=100)\n",
        "\n",
        "w0_gd, w1_gd = w_gd\n",
        "print(f\"Parâmetros GD: w0 = {w0_gd:.4f}, w1 = {w1_gd:.4f}\")"
      ],
      "execution_count": null,
      "outputs": []
    },
    {
      "cell_type": "code",
      "metadata": {},
      "source": [
        "y_pred_gd = X @ w_gd\n",
        "\n",
        "print(\"MSE GD:\", MSE(y, y_pred_gd))"
      ],
      "execution_count": null,
      "outputs": []
    },
    {
      "cell_type": "code",
      "metadata": {},
      "source": [
        "plt.scatter(x, y, label=\"Dados\")\n",
        "plt.plot(x, y_pred_gd, color='green', label=\"Reta GD\")\n",
        "plt.xlabel('x')\n",
        "plt.ylabel('y')\n",
        "plt.title('Regressão Linear com Gradiente Descendente')\n",
        "plt.legend()\n",
        "plt.grid(True)\n",
        "plt.show()"
      ],
      "execution_count": null,
      "outputs": []
    },
    {
      "cell_type": "code",
      "metadata": {},
      "source": [
        "plt.plot(mse_gd)\n",
        "plt.xlabel(\"Época\")\n",
        "plt.ylabel(\"MSE\")\n",
        "plt.title(\"Evolução do erro (MSE) - GD\")\n",
        "plt.grid(True)\n",
        "plt.show()"
      ],
      "execution_count": null,
      "outputs": []
    },
    {
      "cell_type": "markdown",
      "metadata": {},
      "source": [
        "## c) Apresente os parâmetros do modelo, o MSE e a curva de aprendizagem obtidos pelo algoritmo SGD (gradiente descendente estocástico). Plote a reta resultante sobre os dados.\n"
      ]
    },
    {
      "cell_type": "code",
      "metadata": {},
      "source": [
        "def sgd(X, y, alpha=0.1, epochs=30):\n",
        "    m, n = X.shape\n",
        "    w = np.zeros(n)\n",
        "    mse_history = []\n",
        "\n",
        "    for epoch in range(epochs):\n",
        "        indices = np.random.permutation(m)\n",
        "\n",
        "        for i in indices:\n",
        "            xi = X[i, :].reshape(1, -1)\n",
        "            yi = y[i]\n",
        "            yi_pred = xi @ w\n",
        "            erro = yi_pred - yi\n",
        "            gradiente = 2 * xi.T * erro\n",
        "            w -= alpha * gradiente.flatten()\n",
        "\n",
        "            # Calcula o MSE total em todo o dataset após essa atualização\n",
        "            y_pred_total = X @ w\n",
        "            mse = np.mean((y - y_pred_total) ** 2)\n",
        "            mse_history.append(mse)\n",
        "\n",
        "    return w, mse_history"
      ],
      "execution_count": null,
      "outputs": []
    },
    {
      "cell_type": "code",
      "metadata": {},
      "source": [
        "w_sgd, mse_sgd = sgd(X, y, alpha=0.01, epochs=50)\n",
        "\n",
        "w0_sgd, w1_sgd = w_sgd\n",
        "print(f\"Parâmetros SGD: w0 = {w0_sgd:.4f}, w1 = {w1_sgd:.4f}\")"
      ],
      "execution_count": null,
      "outputs": []
    },
    {
      "cell_type": "code",
      "metadata": {},
      "source": [
        "y_pred_sgd = X @ w_sgd\n",
        "print(\"MSE SGD:\", MSE(y, y_pred_sgd))"
      ],
      "execution_count": null,
      "outputs": []
    },
    {
      "cell_type": "code",
      "metadata": {},
      "source": [
        "plt.scatter(x, y, label=\"Dados\")\n",
        "plt.plot(x, y_pred_sgd, color='purple', label=\"Reta SGD\")\n",
        "plt.xlabel('x')\n",
        "plt.ylabel('y')\n",
        "plt.title('Regressão Linear com Gradiente Estocástico')\n",
        "plt.legend()\n",
        "plt.grid(True)\n",
        "plt.show()"
      ],
      "execution_count": null,
      "outputs": []
    },
    {
      "cell_type": "code",
      "metadata": {},
      "source": [
        "plt.plot(mse_sgd)\n",
        "plt.xlabel(\"Época\")\n",
        "plt.ylabel(\"MSE\")\n",
        "plt.title(\"Evolução do erro (MSE) - SGD\")\n",
        "plt.grid(True)\n",
        "plt.show()"
      ],
      "execution_count": null,
      "outputs": []
    }
  ],
  "metadata": {
    "kernelspec": {
      "name": "python3",
      "language": "python",
      "display_name": "Python 3 (ipykernel)",
      "path": "C:\\Users\\cocad\\miniconda3\\share\\jupyter\\kernels\\python3"
    }
  },
  "nbformat": 4,
  "nbformat_minor": 4
}